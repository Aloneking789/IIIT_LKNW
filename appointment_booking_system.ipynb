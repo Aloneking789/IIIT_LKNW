{
  "cells": [
    {
      "cell_type": "markdown",
      "metadata": {
        "id": "9T05GrkBINm9"
      },
      "source": [
        "**Python Code for Symptom Classification**"
      ]
    },
    {
      "cell_type": "code",
      "execution_count": null,
      "metadata": {
        "id": "YdyMrtNJFeQP"
      },
      "outputs": [],
      "source": [
        "import spacy\n",
        "\n",
        "# Load a medical NLP model\n",
        "nlp = spacy.load(\"en_core_web_sm\")\n",
        "\n",
        "# Example symptom-to-specialist mapping\n",
        "symptom_to_specialist = {\n",
        "    \"chest pain\": \"Cardiologist\",\n",
        "    \"fever\": \"General Physician\",\n",
        "    \"headache\": \"Neurologist\",\n",
        "}\n",
        "\n",
        "def predict_specialist(symptom):\n",
        "    doc = nlp(symptom.lower())\n",
        "    for word in doc:\n",
        "        if word.text in symptom_to_specialist:\n",
        "            return symptom_to_specialist[word.text]\n",
        "    return \"General Physician\"\n",
        "\n",
        "# Test input\n",
        "symptom = \"I have chest pain and dizziness\"\n",
        "print(predict_specialist(symptom))  # Output: Cardiologist\n"
      ]
    },
    {
      "cell_type": "code",
      "execution_count": 2,
      "metadata": {
        "colab": {
          "base_uri": "https://localhost:8080/"
        },
        "id": "gtk5EY9DIRNp",
        "outputId": "8ff193e2-03a9-4278-f515-17052bb1c802"
      },
      "outputs": [
        {
          "name": "stdout",
          "output_type": "stream",
          "text": [
            "Recommended Doctor: D001, Available Slot: 10:00 AM\n"
          ]
        }
      ],
      "source": [
        "import pandas as pd\n",
        "\n",
        "# Example doctor schedule\n",
        "doctor_schedule = pd.DataFrame([\n",
        "    {\"doctor_id\": \"D001\", \"specialization\": \"Cardiologist\", \"available_days\": [\"Mon\", \"Wed\", \"Fri\"], \"available_slots\": [\"10:00 AM\", \"11:00 AM\", \"2:00 PM\"]},\n",
        "    {\"doctor_id\": \"D002\", \"specialization\": \"Neurologist\", \"available_days\": [\"Tue\", \"Thu\"], \"available_slots\": [\"1:00 PM\", \"3:00 PM\", \"5:00 PM\"]},\n",
        "])\n",
        "\n",
        "def find_available_doctor(specialization, preferred_day):\n",
        "    available_doctors = doctor_schedule[doctor_schedule[\"specialization\"] == specialization]\n",
        "\n",
        "    for _, row in available_doctors.iterrows():\n",
        "        if preferred_day in row[\"available_days\"]:\n",
        "            return row[\"doctor_id\"], row[\"available_slots\"][0]  # Return first available slot\n",
        "\n",
        "    return None, None  # No available doctor found\n",
        "\n",
        "# Example test\n",
        "specialization_needed = \"Cardiologist\"\n",
        "preferred_day = \"Mon\"\n",
        "doctor_id, slot = find_available_doctor(specialization_needed, preferred_day)\n",
        "\n",
        "print(f\"Recommended Doctor: {doctor_id}, Available Slot: {slot}\")\n"
      ]
    },
    {
      "cell_type": "markdown",
      "metadata": {
        "id": "o76pShONIuAC"
      },
      "source": [
        "**AI-Powered Symptom Checker**"
      ]
    },
    {
      "cell_type": "code",
      "execution_count": 3,
      "metadata": {
        "colab": {
          "base_uri": "https://localhost:8080/"
        },
        "id": "gGFuuV2uItXS",
        "outputId": "df34a935-d94e-45a0-81e3-f60304f1f1b2"
      },
      "outputs": [
        {
          "name": "stderr",
          "output_type": "stream",
          "text": [
            "/usr/local/lib/python3.11/dist-packages/spacy/util.py:1740: UserWarning: [W111] Jupyter notebook detected: if using `prefer_gpu()` or `require_gpu()`, include it in the same cell right before `spacy.load()` to ensure that the model is loaded on the correct device. More information: http://spacy.io/usage/v3#jupyter-notebook-gpu\n",
            "  warnings.warn(Warnings.W111)\n"
          ]
        }
      ],
      "source": [
        "import pandas as pd\n",
        "import spacy\n",
        "from sklearn.feature_extraction.text import CountVectorizer\n",
        "from sklearn.naive_bayes import MultinomialNB\n",
        "import pickle\n",
        "\n",
        "# Load NLP Model\n",
        "nlp = spacy.load(\"en_core_web_sm\")\n",
        "\n",
        "# Example dataset\n",
        "data = {\n",
        "    \"Symptoms\": [\"fever cough\", \"chest pain\", \"headache\"],\n",
        "    \"Condition\": [\"Flu\", \"Heart Disease\", \"Migraine\"],\n",
        "    \"Specialization\": [\"General Physician\", \"Cardiologist\", \"Neurologist\"]\n",
        "}\n",
        "\n",
        "df = pd.DataFrame(data)\n",
        "\n",
        "# Convert symptoms into numerical data\n",
        "vectorizer = CountVectorizer()\n",
        "X = vectorizer.fit_transform(df[\"Symptoms\"])\n",
        "y = df[\"Condition\"]\n",
        "\n",
        "# Train a simple Naive Bayes classifier\n",
        "model = MultinomialNB()\n",
        "model.fit(X, y)\n",
        "\n",
        "# Save model & vectorizer\n",
        "pickle.dump(model, open(\"symptom_checker.pkl\", \"wb\"))\n",
        "pickle.dump(vectorizer, open(\"vectorizer.pkl\", \"wb\"))\n"
      ]
    },
    {
      "cell_type": "code",
      "execution_count": null,
      "metadata": {
        "colab": {
          "base_uri": "https://localhost:8080/"
        },
        "id": "sc9f_83pJLkq",
        "outputId": "c26b8ad3-7f70-4fdb-8870-0f0051033005"
      },
      "outputs": [
        {
          "name": "stdout",
          "output_type": "stream",
          "text": [
            " * Serving Flask app '__main__'\n",
            " * Debug mode: on\n"
          ]
        },
        {
          "name": "stderr",
          "output_type": "stream",
          "text": [
            "INFO:werkzeug:\u001b[31m\u001b[1mWARNING: This is a development server. Do not use it in a production deployment. Use a production WSGI server instead.\u001b[0m\n",
            " * Running on http://127.0.0.1:5000\n",
            "INFO:werkzeug:\u001b[33mPress CTRL+C to quit\u001b[0m\n",
            "INFO:werkzeug: * Restarting with stat\n"
          ]
        }
      ],
      "source": [
        "from flask import Flask, request, jsonify\n",
        "import pickle\n",
        "\n",
        "app = Flask(__name__)\n",
        "\n",
        "# Load trained model\n",
        "model = pickle.load(open(\"symptom_checker.pkl\", \"rb\"))\n",
        "vectorizer = pickle.load(open(\"vectorizer.pkl\", \"rb\"))\n",
        "\n",
        "# Condition-Specialist Mapping\n",
        "condition_specialist = {\n",
        "    \"Flu\": \"General Physician\",\n",
        "    \"Heart Disease\": \"Cardiologist\",\n",
        "    \"Migraine\": \"Neurologist\"\n",
        "}\n",
        "\n",
        "@app.route(\"/diagnose\", methods=[\"POST\"])\n",
        "def diagnose():\n",
        "    data = request.get_json()\n",
        "    symptoms = data[\"symptoms\"]\n",
        "\n",
        "    # Convert symptoms to numerical data\n",
        "    symptoms_vector = vectorizer.transform([symptoms])\n",
        "\n",
        "    # Predict the condition\n",
        "    predicted_condition = model.predict(symptoms_vector)[0]\n",
        "\n",
        "    # Get doctor specialization\n",
        "    specialist = condition_specialist.get(predicted_condition, \"General Physician\")\n",
        "\n",
        "    return jsonify({\"condition\": predicted_condition, \"recommended_doctor\": specialist})\n",
        "\n",
        "if __name__ == \"__main__\":\n",
        "    app.run(debug=True)\n"
      ]
    },
    {
      "cell_type": "code",
      "execution_count": null,
      "metadata": {
        "id": "-Uj6mGsvKMBD"
      },
      "outputs": [],
      "source": [
        "import requests\n",
        "\n",
        "# API endpoint\n",
        "url = \"http://127.0.0.1:5000/diagnose\"\n",
        "\n",
        "# Test symptoms\n",
        "symptoms = \"I have chest pain and shortness of breath\"\n",
        "\n",
        "# Make a POST request\n",
        "response = requests.post(url, json={\"symptoms\": symptoms})\n",
        "\n",
        "# Print response\n",
        "print(response.json())\n"
      ]
    }
  ],
  "metadata": {
    "colab": {
      "provenance": []
    },
    "kernelspec": {
      "display_name": "Python 3",
      "name": "python3"
    },
    "language_info": {
      "codemirror_mode": {
        "name": "ipython",
        "version": 3
      },
      "file_extension": ".py",
      "mimetype": "text/x-python",
      "name": "python",
      "nbconvert_exporter": "python",
      "pygments_lexer": "ipython3",
      "version": "3.12.0"
    }
  },
  "nbformat": 4,
  "nbformat_minor": 0
}
